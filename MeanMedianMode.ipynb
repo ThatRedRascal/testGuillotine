{
 "cells": [
  {
   "cell_type": "markdown",
   "metadata": {},
   "source": [
    "# Mean, Median, Mode, and introducing NumPy"
   ]
  },
  {
   "cell_type": "markdown",
   "metadata": {},
   "source": [
    "## Mean vs. Median"
   ]
  },
  {
   "cell_type": "markdown",
   "metadata": {},
   "source": [
    "Let's create some fake income data, centered around 27,000 with a normal distribution and standard deviation of 15,000, with 10,000 data points. (We'll discuss those terms more later, if you're not familiar with them.)\n",
    "\n",
    "Then, compute the mean (average) - it should be close to 27,000:"
   ]
  },
  {
   "cell_type": "code",
   "execution_count": 3,
   "metadata": {},
   "outputs": [
    {
     "data": {
      "text/plain": [
       "26948.768018680894"
      ]
     },
     "execution_count": 3,
     "metadata": {},
     "output_type": "execute_result"
    }
   ],
   "source": [
    "import numpy as np\n",
    "\n",
    "incomes = np.random.normal(27000, 15000, 10000)\n",
    "np.mean(incomes)"
   ]
  },
  {
   "cell_type": "markdown",
   "metadata": {},
   "source": [
    "We can segment the income data into 50 buckets, and plot it as a histogram:"
   ]
  },
  {
   "cell_type": "code",
   "execution_count": 4,
   "metadata": {},
   "outputs": [
    {
     "data": {
      "text/plain": [
       "<matplotlib.axes._subplots.AxesSubplot at 0x2912ba103c8>"
      ]
     },
     "execution_count": 4,
     "metadata": {},
     "output_type": "execute_result"
    },
    {
     "data": {
      "image/png": "[encoded data removed]",
      "text/plain": [
       "<Figure size 432x288 with 1 Axes>"
      ]
     },
     "metadata": {
      "needs_background": "light"
     },
     "output_type": "display_data"
    }
   ],
   "source": [
    "import pandas as pd\n",
    "k=pd.DataFrame(incomes)\n",
    "k.plot(kind='hist',bins=50)"
   ]
  },
  {
   "cell_type": "code",
   "execution_count": 5,
   "metadata": {},
   "outputs": [
    {
     "data": {
      "image/png": "[encoded data removed]",
      "text/plain": [
       "<Figure size 432x288 with 1 Axes>"
      ]
     },
     "metadata": {
      "needs_background": "light"
     },
     "output_type": "display_data"
    }
   ],
   "source": [
    "%matplotlib inline\n",
    "import matplotlib.pyplot as plt\n",
    "plt.hist(incomes, 50)\n",
    "plt.show()"
   ]
  },
  {
   "cell_type": "markdown",
   "metadata": {},
   "source": [
    "Now compute the median - since we have a nice, even distribution it too should be close to 27,000:"
   ]
  },
  {
   "cell_type": "code",
   "execution_count": 6,
   "metadata": {},
   "outputs": [
    {
     "data": {
      "text/plain": [
       "26987.795958081748"
      ]
     },
     "execution_count": 6,
     "metadata": {},
     "output_type": "execute_result"
    }
   ],
   "source": [
    "np.median(incomes)"
   ]
  },
  {
   "cell_type": "markdown",
   "metadata": {},
   "source": [
    "Now we'll add Jeff Bezos into the mix. Darn income inequality!"
   ]
  },
  {
   "cell_type": "code",
   "execution_count": 7,
   "metadata": {},
   "outputs": [],
   "source": [
    "incomes = np.append(incomes, [1000000000])"
   ]
  },
  {
   "cell_type": "markdown",
   "metadata": {},
   "source": [
    "The median won't change much, but the mean does:"
   ]
  },
  {
   "cell_type": "code",
   "execution_count": 8,
   "metadata": {},
   "outputs": [
    {
     "data": {
      "text/plain": [
       "26988.515598783688"
      ]
     },
     "execution_count": 8,
     "metadata": {},
     "output_type": "execute_result"
    }
   ],
   "source": [
    "np.median(incomes)"
   ]
  },
  {
   "cell_type": "code",
   "execution_count": 9,
   "metadata": {},
   "outputs": [
    {
     "data": {
      "text/plain": [
       "126936.07441123978"
      ]
     },
     "execution_count": 9,
     "metadata": {},
     "output_type": "execute_result"
    }
   ],
   "source": [
    "np.mean(incomes)"
   ]
  },
  {
   "cell_type": "markdown",
   "metadata": {},
   "source": [
    "## Mode"
   ]
  },
  {
   "cell_type": "markdown",
   "metadata": {},
   "source": [
    "Next, let's generate some fake age data for 500 people:"
   ]
  },
  {
   "cell_type": "code",
   "execution_count": 10,
   "metadata": {},
   "outputs": [
    {
     "data": {
      "text/plain": [
       "array([48, 74, 34, 24, 45, 52, 64, 70, 43, 47, 35, 21, 40, 55, 38, 59, 57,\n",
       "       79, 24, 52, 73, 23, 66, 62, 63, 24, 69, 47, 72, 34, 89, 18, 69, 89,\n",
       "       26, 80, 31, 29, 19, 84, 61, 77, 27, 24, 31, 22, 71, 66, 76, 27, 59,\n",
       "       32, 85, 68, 33, 33, 55, 19, 73, 60, 78, 22, 44, 25, 72, 53, 63, 49,\n",
       "       68, 45, 28, 45, 64, 52, 38, 81, 70, 65, 58, 84, 18, 55, 69, 39, 83,\n",
       "       38, 22, 80, 57, 77, 35, 42, 31, 42, 28, 62, 77, 85, 27, 74, 27, 71,\n",
       "       54, 18, 78, 50, 40, 62, 41, 75, 45, 56, 70, 79, 24, 62, 20, 84, 68,\n",
       "       25, 47, 45, 39, 22, 77, 23, 69, 48, 44, 26, 42, 72, 54, 72, 81, 37,\n",
       "       66, 37, 64, 87, 88, 29, 80, 28, 50, 76, 41, 36, 71, 27, 49, 37, 53,\n",
       "       69, 80, 37, 47, 22, 23, 42, 48, 19, 61, 30, 30, 70, 48, 60, 77, 28,\n",
       "       30, 57, 51, 40, 35, 71, 86, 62, 51, 51, 39, 72, 74, 79, 52, 63, 72,\n",
       "       23, 79, 44, 89, 44, 28, 62, 62, 76, 55, 26, 39, 47, 21, 38, 88, 24,\n",
       "       52, 56, 56, 19, 22, 65, 18, 22, 25, 89, 60, 46, 29, 35, 73, 84, 76,\n",
       "       50, 27, 77, 65, 53, 81, 69, 50, 27, 65, 71, 89, 80, 59, 18, 28, 82,\n",
       "       48, 67, 74, 46, 31, 87, 67, 51, 79, 54, 66, 62, 61, 75, 51, 26, 58,\n",
       "       58, 65, 40, 22, 86, 19, 18, 72, 49, 77, 77, 71, 18, 24, 36, 25, 52,\n",
       "       64, 70, 77, 73, 76, 86, 85, 35, 34, 82, 89, 23, 67, 56, 82, 21, 37,\n",
       "       54, 51, 86, 46, 43, 45, 85, 25, 46, 70, 49, 73, 19, 73, 55, 52, 71,\n",
       "       21, 76, 21, 84, 86, 21, 54, 42, 56, 28, 57, 85, 64, 36, 39, 33, 35,\n",
       "       41, 65, 48, 76, 29, 47, 33, 71, 30, 20, 28, 87, 44, 48, 33, 36, 36,\n",
       "       20, 18, 50, 22, 77, 31, 61, 69, 62, 23, 23, 25, 50, 54, 41, 52, 46,\n",
       "       29, 84, 48, 62, 37, 65, 84, 43, 83, 61, 62, 83, 29, 82, 54, 40, 30,\n",
       "       63, 43, 56, 75, 56, 34, 33, 57, 79, 41, 21, 37, 73, 72, 52, 49, 25,\n",
       "       48, 76, 62, 59, 66, 62, 82, 52, 28, 43, 75, 34, 83, 73, 50, 62, 58,\n",
       "       55, 85, 26, 27, 67, 21, 89, 40, 24, 81, 54, 72, 74, 25, 72, 78, 85,\n",
       "       86, 81, 78, 61, 89, 49, 43, 74, 56, 32, 85, 75, 47, 41, 83, 62, 46,\n",
       "       58, 39, 25, 33, 87, 29, 45, 20, 77, 42, 79, 71, 45, 86, 53, 22, 27,\n",
       "       71, 30, 84, 54, 57, 62, 52, 29, 52, 29, 37, 59, 45, 75, 71, 65, 55,\n",
       "       18, 44, 83, 49, 79, 84, 62, 18, 85, 68, 62, 47, 45, 71, 86, 78, 22,\n",
       "       74, 88, 35, 76, 43, 62, 33])"
      ]
     },
     "execution_count": 10,
     "metadata": {},
     "output_type": "execute_result"
    }
   ],
   "source": [
    "ages = np.random.randint(18, high=90, size=500)\n",
    "ages"
   ]
  },
  {
   "cell_type": "code",
   "execution_count": 11,
   "metadata": {},
   "outputs": [
    {
     "data": {
      "text/plain": [
       "ModeResult(mode=array([62]), count=array([19]))"
      ]
     },
     "execution_count": 11,
     "metadata": {},
     "output_type": "execute_result"
    }
   ],
   "source": [
    "from scipy import stats\n",
    "stats.mode(ages)"
   ]
  },
  {
   "cell_type": "code",
   "execution_count": null,
   "metadata": {},
   "outputs": [],
   "source": []
  }
 ],
 "metadata": {
  "kernelspec": {
   "display_name": "Python 3",
   "language": "python",
   "name": "python3"
  },
  "language_info": {
   "codemirror_mode": {
    "name": "ipython",
    "version": 3
   },
   "file_extension": ".py",
   "mimetype": "text/x-python",
   "name": "python",
   "nbconvert_exporter": "python",
   "pygments_lexer": "ipython3",
   "version": "3.7.6"
  }
 },
 "nbformat": 4,
 "nbformat_minor": 1
}
